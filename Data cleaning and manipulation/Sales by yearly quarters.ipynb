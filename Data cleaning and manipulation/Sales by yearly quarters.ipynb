{
 "cells": [
  {
   "cell_type": "code",
   "execution_count": 1,
   "metadata": {},
   "outputs": [],
   "source": [
    "#import libraries\n",
    "import matplotlib.pyplot as plt\n",
    "import pandas as pd\n",
    "import seaborn as sns\n",
    "import numpy as np"
   ]
  },
  {
   "cell_type": "code",
   "execution_count": 2,
   "metadata": {},
   "outputs": [],
   "source": [
    "#read file\n",
    "sales_byy=pd.read_csv('Coffee_company.csv', index_col=0)"
   ]
  },
  {
   "cell_type": "code",
   "execution_count": 3,
   "metadata": {},
   "outputs": [
    {
     "data": {
      "text/plain": [
       "Index(['Country', ' Product ', ' Discount Band ', 'Units Sold',\n",
       "       ' Manufacturing Price ', ' Sale Price ', ' Gross Sales ', ' Discounts ',\n",
       "       '  Sales ', ' COGS ', ' Profit ', 'Date', 'Month Number',\n",
       "       ' Month Name ', 'Year'],\n",
       "      dtype='object')"
      ]
     },
     "execution_count": 3,
     "metadata": {},
     "output_type": "execute_result"
    }
   ],
   "source": [
    "#check columns\n",
    "sales_byy.columns"
   ]
  },
  {
   "cell_type": "code",
   "execution_count": 4,
   "metadata": {},
   "outputs": [],
   "source": [
    "#clean data\n",
    "sales_byy.columns=sales_byy.columns.str.replace(' ', '')"
   ]
  },
  {
   "cell_type": "code",
   "execution_count": null,
   "metadata": {},
   "outputs": [
    {
     "data": {
      "text/html": [
       "<div>\n",
       "<style scoped>\n",
       "    .dataframe tbody tr th:only-of-type {\n",
       "        vertical-align: middle;\n",
       "    }\n",
       "\n",
       "    .dataframe tbody tr th {\n",
       "        vertical-align: top;\n",
       "    }\n",
       "\n",
       "    .dataframe thead th {\n",
       "        text-align: right;\n",
       "    }\n",
       "</style>\n",
       "<table border=\"1\" class=\"dataframe\">\n",
       "  <thead>\n",
       "    <tr style=\"text-align: right;\">\n",
       "      <th></th>\n",
       "      <th>Country</th>\n",
       "      <th>Product</th>\n",
       "      <th>DiscountBand</th>\n",
       "      <th>UnitsSold</th>\n",
       "      <th>ManufacturingPrice</th>\n",
       "      <th>SalePrice</th>\n",
       "      <th>GrossSales</th>\n",
       "      <th>Discounts</th>\n",
       "      <th>Sales</th>\n",
       "      <th>COGS</th>\n",
       "      <th>Profit</th>\n",
       "      <th>Date</th>\n",
       "      <th>MonthNumber</th>\n",
       "      <th>MonthName</th>\n",
       "      <th>Year</th>\n",
       "    </tr>\n",
       "    <tr>\n",
       "      <th>Segment</th>\n",
       "      <th></th>\n",
       "      <th></th>\n",
       "      <th></th>\n",
       "      <th></th>\n",
       "      <th></th>\n",
       "      <th></th>\n",
       "      <th></th>\n",
       "      <th></th>\n",
       "      <th></th>\n",
       "      <th></th>\n",
       "      <th></th>\n",
       "      <th></th>\n",
       "      <th></th>\n",
       "      <th></th>\n",
       "      <th></th>\n",
       "    </tr>\n",
       "  </thead>\n",
       "  <tbody>\n",
       "    <tr>\n",
       "      <th>Beverages</th>\n",
       "      <td>United States of America</td>\n",
       "      <td>Robusta</td>\n",
       "      <td>None</td>\n",
       "      <td>2427.75</td>\n",
       "      <td>$3.90</td>\n",
       "      <td>$26.00</td>\n",
       "      <td>$42,081.00</td>\n",
       "      <td>$-</td>\n",
       "      <td>$42,081.00</td>\n",
       "      <td>$21,040.50</td>\n",
       "      <td>$16,185.00</td>\n",
       "      <td>01/01/2021</td>\n",
       "      <td>1</td>\n",
       "      <td>January</td>\n",
       "      <td>2021</td>\n",
       "    </tr>\n",
       "    <tr>\n",
       "      <th>Beverages</th>\n",
       "      <td>Switzerland</td>\n",
       "      <td>Robusta</td>\n",
       "      <td>None</td>\n",
       "      <td>1981.50</td>\n",
       "      <td>$3.90</td>\n",
       "      <td>$26.00</td>\n",
       "      <td>$34,346.00</td>\n",
       "      <td>$-</td>\n",
       "      <td>$34,346.00</td>\n",
       "      <td>$17,173.00</td>\n",
       "      <td>$13,210.00</td>\n",
       "      <td>01/01/2021</td>\n",
       "      <td>1</td>\n",
       "      <td>January</td>\n",
       "      <td>2021</td>\n",
       "    </tr>\n",
       "    <tr>\n",
       "      <th>Snacks</th>\n",
       "      <td>Japan</td>\n",
       "      <td>Robusta</td>\n",
       "      <td>None</td>\n",
       "      <td>3267.00</td>\n",
       "      <td>$3.90</td>\n",
       "      <td>$19.50</td>\n",
       "      <td>$42,471.00</td>\n",
       "      <td>$-</td>\n",
       "      <td>$42,471.00</td>\n",
       "      <td>$28,314.00</td>\n",
       "      <td>$10,890.00</td>\n",
       "      <td>01/06/2021</td>\n",
       "      <td>6</td>\n",
       "      <td>June</td>\n",
       "      <td>2021</td>\n",
       "    </tr>\n",
       "    <tr>\n",
       "      <th>Snacks</th>\n",
       "      <td>Switzerland</td>\n",
       "      <td>Robusta</td>\n",
       "      <td>None</td>\n",
       "      <td>1332.00</td>\n",
       "      <td>$3.90</td>\n",
       "      <td>$19.50</td>\n",
       "      <td>$17,316.00</td>\n",
       "      <td>$-</td>\n",
       "      <td>$17,316.00</td>\n",
       "      <td>$11,544.00</td>\n",
       "      <td>$4,440.00</td>\n",
       "      <td>01/06/2021</td>\n",
       "      <td>6</td>\n",
       "      <td>June</td>\n",
       "      <td>2021</td>\n",
       "    </tr>\n",
       "    <tr>\n",
       "      <th>Snacks</th>\n",
       "      <td>Belgium</td>\n",
       "      <td>Robusta</td>\n",
       "      <td>None</td>\n",
       "      <td>3705.00</td>\n",
       "      <td>$3.90</td>\n",
       "      <td>$19.50</td>\n",
       "      <td>$48,165.00</td>\n",
       "      <td>$-</td>\n",
       "      <td>$48,165.00</td>\n",
       "      <td>$32,110.00</td>\n",
       "      <td>$12,350.00</td>\n",
       "      <td>01/06/2021</td>\n",
       "      <td>6</td>\n",
       "      <td>June</td>\n",
       "      <td>2021</td>\n",
       "    </tr>\n",
       "  </tbody>\n",
       "</table>\n",
       "</div>"
      ],
      "text/plain": [
       "                            Country    Product DiscountBand  UnitsSold  \\\n",
       "Segment                                                                  \n",
       "Beverages  United States of America   Robusta         None     2427.75   \n",
       "Beverages               Switzerland   Robusta         None     1981.50   \n",
       "Snacks                        Japan   Robusta         None     3267.00   \n",
       "Snacks                  Switzerland   Robusta         None     1332.00   \n",
       "Snacks                      Belgium   Robusta         None     3705.00   \n",
       "\n",
       "          ManufacturingPrice SalePrice    GrossSales Discounts         Sales  \\\n",
       "Segment                                                                        \n",
       "Beverages             $3.90    $26.00    $42,081.00      $-      $42,081.00    \n",
       "Beverages             $3.90    $26.00    $34,346.00      $-      $34,346.00    \n",
       "Snacks                $3.90    $19.50    $42,471.00      $-      $42,471.00    \n",
       "Snacks                $3.90    $19.50    $17,316.00      $-      $17,316.00    \n",
       "Snacks                $3.90    $19.50    $48,165.00      $-      $48,165.00    \n",
       "\n",
       "                   COGS        Profit        Date  MonthNumber  MonthName  \\\n",
       "Segment                                                                     \n",
       "Beverages   $21,040.50    $16,185.00   01/01/2021            1   January    \n",
       "Beverages   $17,173.00    $13,210.00   01/01/2021            1   January    \n",
       "Snacks      $28,314.00    $10,890.00   01/06/2021            6      June    \n",
       "Snacks      $11,544.00     $4,440.00   01/06/2021            6      June    \n",
       "Snacks      $32,110.00    $12,350.00   01/06/2021            6      June    \n",
       "\n",
       "           Year  \n",
       "Segment          \n",
       "Beverages  2021  \n",
       "Beverages  2021  \n",
       "Snacks     2021  \n",
       "Snacks     2021  \n",
       "Snacks     2021  "
      ]
     },
     "execution_count": 5,
     "metadata": {},
     "output_type": "execute_result"
    }
   ],
   "source": [
    "#check\n",
    "sales_byy.head()"
   ]
  },
  {
   "cell_type": "code",
   "execution_count": 5,
   "metadata": {},
   "outputs": [
    {
     "name": "stdout",
     "output_type": "stream",
     "text": [
      "object object\n"
     ]
    }
   ],
   "source": [
    "#check the sales column and date column data type\n",
    "print(sales_byy['Sales'].dtype, sales_byy['Date'].dtype)"
   ]
  },
  {
   "cell_type": "code",
   "execution_count": 6,
   "metadata": {},
   "outputs": [],
   "source": [
    "#additional cleaning\n",
    "sales_byy['Sales']=sales_byy['Sales'].str.replace('$','').str.replace(',','')"
   ]
  },
  {
   "cell_type": "code",
   "execution_count": 7,
   "metadata": {},
   "outputs": [
    {
     "data": {
      "text/plain": [
       "Segment\n",
       "Beverages    42081.0\n",
       "Beverages    34346.0\n",
       "Snacks       42471.0\n",
       "Snacks       17316.0\n",
       "Snacks       48165.0\n",
       "Name: Sales, dtype: float64"
      ]
     },
     "execution_count": 7,
     "metadata": {},
     "output_type": "execute_result"
    }
   ],
   "source": [
    "#change it to numeric\n",
    "sales_byy['Sales']=pd.to_numeric(sales_byy['Sales'], errors='coerce')\n",
    "#check data\n",
    "sales_byy['Sales'].head()"
   ]
  },
  {
   "cell_type": "code",
   "execution_count": 8,
   "metadata": {},
   "outputs": [
    {
     "data": {
      "text/plain": [
       "Segment\n",
       "Beverages   2021-01-01\n",
       "Beverages   2021-01-01\n",
       "Snacks      2021-06-01\n",
       "Snacks      2021-06-01\n",
       "Snacks      2021-06-01\n",
       "Name: Date, dtype: datetime64[ns]"
      ]
     },
     "execution_count": 8,
     "metadata": {},
     "output_type": "execute_result"
    }
   ],
   "source": [
    "#clean and format the date\n",
    "#clean the data, replace the / with -\n",
    "sales_byy['Date']=sales_byy['Date'].str.replace('/', '-')\n",
    "sales_byy['Date']=pd.to_datetime(sales_byy['Date'], format='%d-%m-%Y')\n",
    "#check the data\n",
    "sales_byy['Date'].head()"
   ]
  },
  {
   "cell_type": "code",
   "execution_count": 9,
   "metadata": {},
   "outputs": [],
   "source": [
    "#transform the date to quarters\n",
    "sales_byy['Date']=sales_byy['Date'].dt.to_period('Q')"
   ]
  },
  {
   "cell_type": "code",
   "execution_count": 10,
   "metadata": {},
   "outputs": [
    {
     "data": {
      "text/plain": [
       "Date\n",
       "2021Q1    25339798.91\n",
       "2021Q2    29502044.05\n",
       "2021Q3    26476111.84\n",
       "2021Q4    38686468.77\n",
       "2022Q1    17737859.24\n",
       "Freq: Q-DEC, Name: Sales, dtype: float64"
      ]
     },
     "execution_count": 10,
     "metadata": {},
     "output_type": "execute_result"
    }
   ],
   "source": [
    "#group the sales by date and sum them up\n",
    "g_y=sales_byy.groupby('Date')['Sales'].sum()\n",
    "g_y.head()"
   ]
  },
  {
   "cell_type": "code",
   "execution_count": 13,
   "metadata": {},
   "outputs": [
    {
     "data": {
      "text/plain": [
       "<Axes: title={'center': 'Sales for the Period 2021-2023'}, xlabel='Quarters', ylabel='Sales in 10s of $ Millions'>"
      ]
     },
     "execution_count": 13,
     "metadata": {},
     "output_type": "execute_result"
    },
    {
     "data": {
      "image/png": "[encoded data removed]",
      "text/plain": [
       "<Figure size 1200x600 with 1 Axes>"
      ]
     },
     "metadata": {},
     "output_type": "display_data"
    }
   ],
   "source": [
    "#plot the data, specify the title, xaxis, y, and figsize\n",
    "g_y.plot(xlabel='Quarters', ylabel='Sales in 10s of $ Millions', title='Sales for the Period 2021-2023', figsize=(12, 6))"
   ]
  },
  {
   "cell_type": "markdown",
   "metadata": {},
   "source": [
    "## Price effectiveness on sales per segment"
   ]
  },
  {
   "cell_type": "code",
   "execution_count": 15,
   "metadata": {},
   "outputs": [
    {
     "data": {
      "text/plain": [
       "Segment\n",
       "Beverages    26.0\n",
       "Beverages    26.0\n",
       "Snacks       19.5\n",
       "Snacks       19.5\n",
       "Snacks       19.5\n",
       "Name: SalePrice, dtype: float64"
      ]
     },
     "execution_count": 15,
     "metadata": {},
     "output_type": "execute_result"
    }
   ],
   "source": [
    "#explore the relationship between the sales price and sales\n",
    "#I want to plot them and run a regression \n",
    "#1 clean the data in the saleprice column\n",
    "sales_byy['SalePrice']=sales_byy['SalePrice'].str.replace('$','')\n",
    "#change it to numeric\n",
    "sales_byy['SalePrice']=pd.to_numeric(sales_byy['SalePrice'], errors='coerce')\n",
    "#check the data\n",
    "sales_byy['SalePrice'].head()"
   ]
  },
  {
   "cell_type": "code",
   "execution_count": 16,
   "metadata": {},
   "outputs": [
    {
     "data": {
      "text/html": [
       "<div>\n",
       "<style scoped>\n",
       "    .dataframe tbody tr th:only-of-type {\n",
       "        vertical-align: middle;\n",
       "    }\n",
       "\n",
       "    .dataframe tbody tr th {\n",
       "        vertical-align: top;\n",
       "    }\n",
       "\n",
       "    .dataframe thead th {\n",
       "        text-align: right;\n",
       "    }\n",
       "</style>\n",
       "<table border=\"1\" class=\"dataframe\">\n",
       "  <thead>\n",
       "    <tr style=\"text-align: right;\">\n",
       "      <th></th>\n",
       "      <th>SalePrice</th>\n",
       "      <th>Sales</th>\n",
       "    </tr>\n",
       "    <tr>\n",
       "      <th>Segment</th>\n",
       "      <th></th>\n",
       "      <th></th>\n",
       "    </tr>\n",
       "  </thead>\n",
       "  <tbody>\n",
       "    <tr>\n",
       "      <th>Beverages</th>\n",
       "      <td>6.37</td>\n",
       "      <td>1506.12</td>\n",
       "    </tr>\n",
       "    <tr>\n",
       "      <th>Beverages</th>\n",
       "      <td>6.37</td>\n",
       "      <td>17036.18</td>\n",
       "    </tr>\n",
       "    <tr>\n",
       "      <th>Beverages</th>\n",
       "      <td>6.37</td>\n",
       "      <td>13701.62</td>\n",
       "    </tr>\n",
       "    <tr>\n",
       "      <th>Beverages</th>\n",
       "      <td>6.37</td>\n",
       "      <td>13701.62</td>\n",
       "    </tr>\n",
       "    <tr>\n",
       "      <th>Beverages</th>\n",
       "      <td>6.37</td>\n",
       "      <td>17036.18</td>\n",
       "    </tr>\n",
       "  </tbody>\n",
       "</table>\n",
       "</div>"
      ],
      "text/plain": [
       "           SalePrice     Sales\n",
       "Segment                       \n",
       "Beverages       6.37   1506.12\n",
       "Beverages       6.37  17036.18\n",
       "Beverages       6.37  13701.62\n",
       "Beverages       6.37  13701.62\n",
       "Beverages       6.37  17036.18"
      ]
     },
     "execution_count": 16,
     "metadata": {},
     "output_type": "execute_result"
    }
   ],
   "source": [
    "#dtype is object, we can use this to regress with the sales\n",
    "#make another data frame with sales and saleprice data\n",
    "salestoprice=sales_byy[['SalePrice', 'Sales']].copy().sort_values('SalePrice')\n",
    "salestoprice.head()"
   ]
  },
  {
   "cell_type": "code",
   "execution_count": 21,
   "metadata": {},
   "outputs": [
    {
     "data": {
      "text/html": [
       "<div>\n",
       "<style scoped>\n",
       "    .dataframe tbody tr th:only-of-type {\n",
       "        vertical-align: middle;\n",
       "    }\n",
       "\n",
       "    .dataframe tbody tr th {\n",
       "        vertical-align: top;\n",
       "    }\n",
       "\n",
       "    .dataframe thead th {\n",
       "        text-align: right;\n",
       "    }\n",
       "</style>\n",
       "<table border=\"1\" class=\"dataframe\">\n",
       "  <thead>\n",
       "    <tr style=\"text-align: right;\">\n",
       "      <th></th>\n",
       "      <th>Segment</th>\n",
       "      <th>SalePrice</th>\n",
       "      <th>Sales</th>\n",
       "    </tr>\n",
       "  </thead>\n",
       "  <tbody>\n",
       "    <tr>\n",
       "      <th>0</th>\n",
       "      <td>Beverages</td>\n",
       "      <td>6.37</td>\n",
       "      <td>1506.12</td>\n",
       "    </tr>\n",
       "    <tr>\n",
       "      <th>1</th>\n",
       "      <td>Beverages</td>\n",
       "      <td>6.37</td>\n",
       "      <td>17036.18</td>\n",
       "    </tr>\n",
       "    <tr>\n",
       "      <th>2</th>\n",
       "      <td>Beverages</td>\n",
       "      <td>6.37</td>\n",
       "      <td>13701.62</td>\n",
       "    </tr>\n",
       "    <tr>\n",
       "      <th>3</th>\n",
       "      <td>Beverages</td>\n",
       "      <td>6.37</td>\n",
       "      <td>13701.62</td>\n",
       "    </tr>\n",
       "    <tr>\n",
       "      <th>4</th>\n",
       "      <td>Beverages</td>\n",
       "      <td>6.37</td>\n",
       "      <td>17036.18</td>\n",
       "    </tr>\n",
       "  </tbody>\n",
       "</table>\n",
       "</div>"
      ],
      "text/plain": [
       "     Segment  SalePrice     Sales\n",
       "0  Beverages       6.37   1506.12\n",
       "1  Beverages       6.37  17036.18\n",
       "2  Beverages       6.37  13701.62\n",
       "3  Beverages       6.37  13701.62\n",
       "4  Beverages       6.37  17036.18"
      ]
     },
     "execution_count": 21,
     "metadata": {},
     "output_type": "execute_result"
    }
   ],
   "source": [
    "sales_price=salestoprice.reset_index()\n",
    "sales_price.head()"
   ]
  },
  {
   "cell_type": "code",
   "execution_count": 25,
   "metadata": {},
   "outputs": [
    {
     "data": {
      "text/html": [
       "<div>\n",
       "<style scoped>\n",
       "    .dataframe tbody tr th:only-of-type {\n",
       "        vertical-align: middle;\n",
       "    }\n",
       "\n",
       "    .dataframe tbody tr th {\n",
       "        vertical-align: top;\n",
       "    }\n",
       "\n",
       "    .dataframe thead th {\n",
       "        text-align: right;\n",
       "    }\n",
       "</style>\n",
       "<table border=\"1\" class=\"dataframe\">\n",
       "  <thead>\n",
       "    <tr style=\"text-align: right;\">\n",
       "      <th></th>\n",
       "      <th>Segment</th>\n",
       "      <th>SalePrice</th>\n",
       "      <th>Sales</th>\n",
       "    </tr>\n",
       "  </thead>\n",
       "  <tbody>\n",
       "    <tr>\n",
       "      <th>16</th>\n",
       "      <td>Packaged and Prepared Foods</td>\n",
       "      <td>162.50</td>\n",
       "      <td>20230771.62</td>\n",
       "    </tr>\n",
       "    <tr>\n",
       "      <th>17</th>\n",
       "      <td>Packaged and Prepared Foods</td>\n",
       "      <td>276.25</td>\n",
       "      <td>34392311.50</td>\n",
       "    </tr>\n",
       "    <tr>\n",
       "      <th>18</th>\n",
       "      <td>Snacks</td>\n",
       "      <td>13.65</td>\n",
       "      <td>1670432.05</td>\n",
       "    </tr>\n",
       "    <tr>\n",
       "      <th>19</th>\n",
       "      <td>Snacks</td>\n",
       "      <td>19.50</td>\n",
       "      <td>2386331.60</td>\n",
       "    </tr>\n",
       "    <tr>\n",
       "      <th>20</th>\n",
       "      <td>Snacks</td>\n",
       "      <td>33.15</td>\n",
       "      <td>4056763.56</td>\n",
       "    </tr>\n",
       "  </tbody>\n",
       "</table>\n",
       "</div>"
      ],
      "text/plain": [
       "                        Segment  SalePrice        Sales\n",
       "16  Packaged and Prepared Foods     162.50  20230771.62\n",
       "17  Packaged and Prepared Foods     276.25  34392311.50\n",
       "18                       Snacks      13.65   1670432.05\n",
       "19                       Snacks      19.50   2386331.60\n",
       "20                       Snacks      33.15   4056763.56"
      ]
     },
     "execution_count": 25,
     "metadata": {},
     "output_type": "execute_result"
    }
   ],
   "source": [
    "#groupby segment\n",
    "sales_price=salestoprice.groupby(['Segment', 'SalePrice'])['Sales'].sum().reset_index()\n",
    "sales_price.tail()"
   ]
  },
  {
   "cell_type": "code",
   "execution_count": 27,
   "metadata": {},
   "outputs": [
    {
     "data": {
      "text/plain": [
       "<seaborn.axisgrid.FacetGrid at 0x253f3792b40>"
      ]
     },
     "execution_count": 27,
     "metadata": {},
     "output_type": "execute_result"
    },
    {
     "data": {
      "image/png": "[encoded data removed]",
      "text/plain": [
       "<Figure size 759.375x500 with 1 Axes>"
      ]
     },
     "metadata": {},
     "output_type": "display_data"
    }
   ],
   "source": [
    "#plot the data\n",
    "rel=sns.relplot(data=sales_price, x='Sales', y='SalePrice', hue='Segment')\n",
    "rel.set(title='Price effectiveness on sales per segment', xlabel='Sales in 10s of $ Millions', ylabel='Sale Price in $')"
   ]
  },
  {
   "cell_type": "code",
   "execution_count": null,
   "metadata": {},
   "outputs": [],
   "source": []
  }
 ],
 "metadata": {
  "kernelspec": {
   "display_name": "base",
   "language": "python",
   "name": "python3"
  },
  "language_info": {
   "codemirror_mode": {
    "name": "ipython",
    "version": 3
   },
   "file_extension": ".py",
   "mimetype": "text/x-python",
   "name": "python",
   "nbconvert_exporter": "python",
   "pygments_lexer": "ipython3",
   "version": "3.12.3"
  }
 },
 "nbformat": 4,
 "nbformat_minor": 2
}
