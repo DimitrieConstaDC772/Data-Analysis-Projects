{
 "cells": [
  {
   "cell_type": "code",
   "execution_count": 2,
   "metadata": {},
   "outputs": [],
   "source": [
    "#import libraries\n",
    "import matplotlib.pyplot as plt\n",
    "import pandas as pd\n",
    "import seaborn as sns\n",
    "import numpy as np"
   ]
  },
  {
   "cell_type": "code",
   "execution_count": 3,
   "metadata": {},
   "outputs": [],
   "source": [
    "#read file\n",
    "sales_byy=pd.read_csv('Coffee_company.csv', index_col=0)"
   ]
  },
  {
   "cell_type": "code",
   "execution_count": null,
   "metadata": {},
   "outputs": [],
   "source": [
    "#check columns\n",
    "sales_byy.columns"
   ]
  },
  {
   "cell_type": "code",
   "execution_count": 4,
   "metadata": {},
   "outputs": [],
   "source": [
    "#clean data\n",
    "sales_byy.columns=sales_byy.columns.str.replace(' ', '')"
   ]
  },
  {
   "cell_type": "code",
   "execution_count": null,
   "metadata": {},
   "outputs": [],
   "source": [
    "#check\n",
    "sales_byy.head()"
   ]
  },
  {
   "cell_type": "code",
   "execution_count": 6,
   "metadata": {},
   "outputs": [
    {
     "name": "stdout",
     "output_type": "stream",
     "text": [
      "object object\n"
     ]
    }
   ],
   "source": [
    "#check the sales column and date column data type\n",
    "print(sales_byy['Sales'].dtype, sales_byy['Date'].dtype)"
   ]
  },
  {
   "cell_type": "code",
   "execution_count": 5,
   "metadata": {},
   "outputs": [],
   "source": [
    "#additional cleaning\n",
    "sales_byy['Sales']=sales_byy['Sales'].str.replace('$','').str.replace(',','')"
   ]
  },
  {
   "cell_type": "code",
   "execution_count": 6,
   "metadata": {},
   "outputs": [],
   "source": [
    "#check profit data type and clean it\n",
    "sales_byy['Profit'].astype(str)\n",
    "sales_byy['Profit']=sales_byy['Profit'].str.replace('$', '').str.replace(',', '')"
   ]
  },
  {
   "cell_type": "code",
   "execution_count": null,
   "metadata": {},
   "outputs": [],
   "source": [
    "#change it to numeric\n",
    "sales_byy['Sales']=pd.to_numeric(sales_byy['Sales'], errors='coerce')\n",
    "sales_byy['Profit']=pd.to_numeric(sales_byy['Profit'], errors='coerce')\n",
    "#check data\n",
    "sales_byy[['Sales', 'Profit']].head()"
   ]
  },
  {
   "cell_type": "code",
   "execution_count": null,
   "metadata": {},
   "outputs": [],
   "source": [
    "#clean and format the date\n",
    "#clean the data, replace the / with -\n",
    "sales_byy['Date']=sales_byy['Date'].str.replace('/', '-')\n",
    "sales_byy['Date']=pd.to_datetime(sales_byy['Date'], format='%d-%m-%Y')\n",
    "#check the data\n",
    "sales_byy['Date'].head()"
   ]
  },
  {
   "cell_type": "code",
   "execution_count": 9,
   "metadata": {},
   "outputs": [],
   "source": [
    "#transform the date to quarters\n",
    "sales_byy['Date']=sales_byy['Date'].dt.to_period('Q')"
   ]
  },
  {
   "cell_type": "code",
   "execution_count": 38,
   "metadata": {},
   "outputs": [
    {
     "data": {
      "text/html": [
       "<div>\n",
       "<style scoped>\n",
       "    .dataframe tbody tr th:only-of-type {\n",
       "        vertical-align: middle;\n",
       "    }\n",
       "\n",
       "    .dataframe tbody tr th {\n",
       "        vertical-align: top;\n",
       "    }\n",
       "\n",
       "    .dataframe thead th {\n",
       "        text-align: right;\n",
       "    }\n",
       "</style>\n",
       "<table border=\"1\" class=\"dataframe\">\n",
       "  <thead>\n",
       "    <tr style=\"text-align: right;\">\n",
       "      <th></th>\n",
       "      <th>Sales</th>\n",
       "      <th>Profit</th>\n",
       "      <th>Cost in % Points</th>\n",
       "    </tr>\n",
       "    <tr>\n",
       "      <th>Date</th>\n",
       "      <th></th>\n",
       "      <th></th>\n",
       "      <th></th>\n",
       "    </tr>\n",
       "  </thead>\n",
       "  <tbody>\n",
       "    <tr>\n",
       "      <th>2021Q1</th>\n",
       "      <td>25339798.91</td>\n",
       "      <td>2735214.20</td>\n",
       "      <td>0.892059</td>\n",
       "    </tr>\n",
       "    <tr>\n",
       "      <th>2021Q2</th>\n",
       "      <td>29502044.05</td>\n",
       "      <td>3350652.21</td>\n",
       "      <td>0.886426</td>\n",
       "    </tr>\n",
       "    <tr>\n",
       "      <th>2021Q3</th>\n",
       "      <td>26476111.84</td>\n",
       "      <td>2863304.35</td>\n",
       "      <td>0.891853</td>\n",
       "    </tr>\n",
       "    <tr>\n",
       "      <th>2021Q4</th>\n",
       "      <td>38686468.77</td>\n",
       "      <td>4621050.77</td>\n",
       "      <td>0.880551</td>\n",
       "    </tr>\n",
       "    <tr>\n",
       "      <th>2022Q1</th>\n",
       "      <td>17737859.24</td>\n",
       "      <td>1914649.92</td>\n",
       "      <td>0.892059</td>\n",
       "    </tr>\n",
       "  </tbody>\n",
       "</table>\n",
       "</div>"
      ],
      "text/plain": [
       "              Sales      Profit  Cost in % Points\n",
       "Date                                             \n",
       "2021Q1  25339798.91  2735214.20          0.892059\n",
       "2021Q2  29502044.05  3350652.21          0.886426\n",
       "2021Q3  26476111.84  2863304.35          0.891853\n",
       "2021Q4  38686468.77  4621050.77          0.880551\n",
       "2022Q1  17737859.24  1914649.92          0.892059"
      ]
     },
     "execution_count": 38,
     "metadata": {},
     "output_type": "execute_result"
    }
   ],
   "source": [
    "#group the sales and profit by date and sum them up\n",
    "g_y=sales_byy.groupby('Date')[['Sales', 'Profit']].sum()\n",
    "#add a new column\n",
    "g_y['Cost in % Points'] = (g_y['Sales'] - g_y['Profit']) / g_y['Sales']\n",
    "g_y.head()"
   ]
  },
  {
   "cell_type": "markdown",
   "metadata": {},
   "source": [
    "## Cost Efficiency in relation to Sales by Quarters"
   ]
  },
  {
   "cell_type": "code",
   "execution_count": null,
   "metadata": {},
   "outputs": [
    {
     "name": "stderr",
     "output_type": "stream",
     "text": [
      "C:\\Users\\const\\AppData\\Local\\Temp\\ipykernel_27032\\694488105.py:10: FutureWarning: Series.__getitem__ treating keys as positions is deprecated. In a future version, integer keys will always be treated as labels (consistent with DataFrame behavior). To access a value by position, use `ser.iloc[pos]`\n",
      "  plt.text(x_indexes[i] - width, g_y['Sales'][i] + max(g_y['Sales'])*0.01, f'{g_y['Cost in Percentage Points'][i]:.2f}',\n"
     ]
    },
    {
     "data": {
      "image/png": "[encoded data removed]",
      "text/plain": [
       "<Figure size 640x480 with 1 Axes>"
      ]
     },
     "metadata": {},
     "output_type": "display_data"
    }
   ],
   "source": [
    "#plot sales and profit and add labels with the associated cost in percentage points\n",
    "from matplotlib.patches import Patch\n",
    "\n",
    "width = 0.35\n",
    "x_indexes = np.arange(len(g_y.index))\n",
    "\n",
    "plt.bar(x_indexes - width/2, g_y['Sales'], width=width, label='Sales', color='steelblue')\n",
    "plt.bar(x_indexes + width/2, g_y['Profit'], width=width, label='Profit', color='orange')\n",
    "for i in range(len(g_y.index)):\n",
    "    plt.text(x_indexes[i] - width, g_y['Sales'][i] + max(g_y['Sales'])*0.01, f'{g_y['Cost in Percentage Points'][i]:.2f}', \n",
    "             ha='center', va='bottom', fontsize=8, label='Cost in Percentage Points', color='navy')\n",
    "\n",
    "plt.xticks(x_indexes, g_y.index, rotation=45)\n",
    "plt.xlabel('Quarters')\n",
    "plt.ylabel('Amount')\n",
    "plt.title('Cost Efficiency in relation to Sales by Quarters for the period 2021-2023')\n",
    "\n",
    "# Add custom legend for the text label\n",
    "text_patch = Patch(color='navy', label='Cost in % Points (text on bars)')\n",
    "plt.legend(handles=[plt.Rectangle((0,0),1,1, color='steelblue', label='Sales'),\n",
    "                    plt.Rectangle((0,0),1,1, color='orange', label='Profit'),\n",
    "                    text_patch])\n",
    "plt.tight_layout()\n",
    "plt.show()"
   ]
  }
 ],
 "metadata": {
  "kernelspec": {
   "display_name": "base",
   "language": "python",
   "name": "python3"
  },
  "language_info": {
   "codemirror_mode": {
    "name": "ipython",
    "version": 3
   },
   "file_extension": ".py",
   "mimetype": "text/x-python",
   "name": "python",
   "nbconvert_exporter": "python",
   "pygments_lexer": "ipython3",
   "version": "3.12.3"
  }
 },
 "nbformat": 4,
 "nbformat_minor": 2
}
